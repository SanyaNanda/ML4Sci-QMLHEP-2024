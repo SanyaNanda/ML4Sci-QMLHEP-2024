{
 "cells": [
  {
   "cell_type": "markdown",
   "id": "4354584e-2066-44fa-abbf-10b2fa161f16",
   "metadata": {},
   "source": [
    "# QML-HEP GSoC 2024 Tasks"
   ]
  },
  {
   "cell_type": "markdown",
   "id": "d8d0c056-e4cd-4d6c-a947-2cc5bc27f716",
   "metadata": {
    "jp-MarkdownHeadingCollapsed": true
   },
   "source": [
    "### Task VIII: Vision transformer/Quantum Vision Transformer\n",
    "Implement a classical Vision transformer and apply it to MNIST. Show its\n",
    "performance on the test data. Comment on potential ideas to extend this classical\n",
    "vision transformer architecture to a quantum vision transformer and sketch out the\n",
    "architecture in detail"
   ]
  },
  {
   "cell_type": "code",
   "execution_count": null,
   "id": "14421b12-b1de-4d86-9b01-6ded1f84ec0d",
   "metadata": {},
   "outputs": [],
   "source": []
  }
 ],
 "metadata": {
  "kernelspec": {
   "display_name": "Python 3 (ipykernel)",
   "language": "python",
   "name": "python3"
  },
  "language_info": {
   "codemirror_mode": {
    "name": "ipython",
    "version": 3
   },
   "file_extension": ".py",
   "mimetype": "text/x-python",
   "name": "python",
   "nbconvert_exporter": "python",
   "pygments_lexer": "ipython3",
   "version": "3.12.2"
  }
 },
 "nbformat": 4,
 "nbformat_minor": 5
}
