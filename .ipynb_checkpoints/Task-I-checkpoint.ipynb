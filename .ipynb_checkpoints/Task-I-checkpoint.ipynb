{
 "cells": [
  {
   "cell_type": "markdown",
   "id": "a4bcfc08-a722-42fb-bf83-7e97dfe1bdd1",
   "metadata": {},
   "source": [
    "# QML-HEP GSoC 2024 Tasks"
   ]
  },
  {
   "cell_type": "code",
   "execution_count": 1,
   "id": "103c8a20-7d9b-4b79-a538-6b2bf58d496b",
   "metadata": {},
   "outputs": [
    {
     "name": "stdout",
     "output_type": "stream",
     "text": [
      "Python 3.10.11\n"
     ]
    }
   ],
   "source": [
    "!python --version"
   ]
  },
  {
   "cell_type": "markdown",
   "id": "055fda1d-3c0a-4c5f-99de-6945e5e9a82a",
   "metadata": {},
   "source": [
    "### Task I: Quantum Computing Part\n",
    "#### 1) Implement a simple quantum operation with Cirq or Pennylane \n",
    "\n",
    "a) With 5 qubits \n",
    "\n",
    "b) Apply Hadamard operation on every qubit \n",
    "\n",
    "c) Apply CNOT operation on (0, 1), (1,2), (2,3), (3,4) \n",
    "\n",
    "d) SWAP (0, 4) \n",
    "\n",
    "e) Rotate X with pi/2 on any qubit \n",
    "\n",
    "f) Plot the circuit"
   ]
  },
  {
   "cell_type": "code",
   "execution_count": 2,
   "id": "ff9316d4-ebd1-4099-a2cf-ad07e7b5a023",
   "metadata": {},
   "outputs": [
    {
     "name": "stdout",
     "output_type": "stream",
     "text": [
      "0: ───H───@───────────────×───Rx(0.5π)───\n",
      "          │               │\n",
      "1: ───H───X───@───────────┼──────────────\n",
      "              │           │\n",
      "2: ───H───────X───@───────┼──────────────\n",
      "                  │       │\n",
      "3: ───H───────────X───@───┼──────────────\n",
      "                      │   │\n",
      "4: ───H───────────────X───×──────────────\n"
     ]
    }
   ],
   "source": [
    "import cirq\n",
    "import numpy as np\n",
    "import matplotlib.pyplot as plt\n",
    "\n",
    "# Step a: Initializing a circuit with 5 qubits\n",
    "qubits = cirq.LineQubit.range(5)\n",
    "circuit = cirq.Circuit()\n",
    "\n",
    "# Step b: Applying Hadamard to every qubit\n",
    "circuit.append(cirq.H(q) for q in qubits)\n",
    "\n",
    "# Step c: Applying CNOT on (0, 1), (1,2), (2,3), (3,4)\n",
    "circuit.append(cirq.CNOT(qubits[i], qubits[i + 1]) for i in range(4))\n",
    "\n",
    "# Step d: Applying SWAP between qubits 0 and 4\n",
    "circuit.append(cirq.SWAP(qubits[0], qubits[4]))\n",
    "\n",
    "# Step e: Rotating qubit 0 around by π/2 on the x axis\n",
    "circuit.append(cirq.rx(np.pi / 2).on(qubits[0]))\n",
    "\n",
    "# Step f: Plot the circuit\n",
    "print(circuit)"
   ]
  },
  {
   "cell_type": "markdown",
   "id": "631a0517-e550-4a9c-aee0-05e1c3bf59f4",
   "metadata": {},
   "source": [
    "### Task I: Quantum Computing Part\n",
    "#### 2) Implement a second circuit with a framework of your choice:\n",
    "\n",
    " a) Apply a Hadmard gate to the first qubit\n",
    "\n",
    " b) Rotate the second qubit by pi/3 around X\n",
    "\n",
    " c) Apply Hadamard gate to the third and fourth qubit\n",
    "\n",
    " d) Perform a swap test between the states of the first and second qubit |q1 q2> and the third and fourth qubit |q3 q4>"
   ]
  },
  {
   "cell_type": "code",
   "execution_count": 8,
   "id": "d1fead53-d206-40a4-9b91-1ebd8a1e1be1",
   "metadata": {},
   "outputs": [
    {
     "name": "stdout",
     "output_type": "stream",
     "text": [
      "0: ──H────────╭SWAP──────────┤       \n",
      "1: ──RX(1.05)─│─────╭SWAP────┤       \n",
      "2: ──H────────├SWAP─│────────┤       \n",
      "3: ──H────────│─────├SWAP────┤       \n",
      "4: ──H────────╰●────╰●─────H─┤  Probs\n",
      "Probability distribution of the ancilla qubit: [0.75 0.25]\n"
     ]
    }
   ],
   "source": [
    "import pennylane as qml\n",
    "from pennylane import numpy as np\n",
    "\n",
    "# Initialize device with 5 qubits: 4 for the operation, 1 for the swap test ancilla\n",
    "dev = qml.device('default.qubit', wires=5)\n",
    "\n",
    "@qml.qnode(dev)\n",
    "def circuit():\n",
    "    # Step a: Apply Hadamard gate to the first qubit\n",
    "    qml.Hadamard(wires=0)\n",
    "    \n",
    "    # Step b: Rotate the second qubit by π/3 around the X-axis\n",
    "    qml.RX(np.pi/3, wires=1)\n",
    "    \n",
    "    # Step c: Apply Hadamard gates to the third and fourth qubits\n",
    "    qml.Hadamard(wires=2)\n",
    "    qml.Hadamard(wires=3)\n",
    "    \n",
    "    # Step d: Perform a swap test between the states of the first and second qubit and the third and fourth qubit\n",
    "    qml.Hadamard(wires=4)\n",
    "    qml.CSWAP(wires=[4, 0, 2])\n",
    "    qml.CSWAP(wires=[4, 1, 3])\n",
    "    qml.Hadamard(wires=4)\n",
    "    \n",
    "    # Measuring the ancilla qubit will give the result of the swap test\n",
    "    return qml.probs(wires=4)\n",
    "\n",
    "# Print the circuit\n",
    "drawer = qml.draw(circuit)\n",
    "print(drawer())\n",
    "\n",
    "# Run the circuit\n",
    "result = circuit()\n",
    "print(\"Probability distribution of the ancilla qubit:\", result)"
   ]
  }
 ],
 "metadata": {
  "kernelspec": {
   "display_name": "Python (mlenv)",
   "language": "python",
   "name": "mlenv"
  },
  "language_info": {
   "codemirror_mode": {
    "name": "ipython",
    "version": 3
   },
   "file_extension": ".py",
   "mimetype": "text/x-python",
   "name": "python",
   "nbconvert_exporter": "python",
   "pygments_lexer": "ipython3",
   "version": "3.10.11"
  }
 },
 "nbformat": 4,
 "nbformat_minor": 5
}
