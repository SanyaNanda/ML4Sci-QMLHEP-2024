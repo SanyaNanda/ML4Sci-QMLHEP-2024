{
 "cells": [
  {
   "cell_type": "markdown",
   "id": "d7cd9eee-9d07-4051-b0a7-ddf895d89e6c",
   "metadata": {},
   "source": [
    "# QML-HEP GSoC 2024 Tasks"
   ]
  },
  {
   "cell_type": "markdown",
   "id": "f6922bb6-3c03-4fa7-a5ff-50526424054d",
   "metadata": {
    "jp-MarkdownHeadingCollapsed": true
   },
   "source": [
    "### Task VII: Equivariant quantum neural networks\n",
    "In this task you are supposed to get started with equivariant quantum neural\n",
    "networks by implementing a Z_2 × Z_2 equivariant quantum neural network. Z_2 is a\n",
    "symmetry group an as an example we will generate a simple classical dataset which\n",
    "is respects the Z_2 x Z_2 symmetry.\n",
    "This example is explained in the paper https://arxiv.org/abs/2205.06217 and\n",
    "additional background can be found in https://arxiv.org/abs/2210.08566.\n",
    "- Generate a classification dataset with two classes and two features x_1 and\n",
    "x_2 which respects the Z_2 x Z_2 symmetry (this corresponds to mirroring\n",
    "along y=x). An example can be found in the first reference paper.\n",
    "- Train a QNN to solve the classification problem\n",
    "- Train an Z_2 x Z_2 equivariant QNN to solve the classification problem and\n",
    "compare the results.\n"
   ]
  },
  {
   "cell_type": "code",
   "execution_count": null,
   "id": "712dd129-d1f0-4dcc-a03a-d815fa26e535",
   "metadata": {},
   "outputs": [],
   "source": []
  }
 ],
 "metadata": {
  "kernelspec": {
   "display_name": "Python 3 (ipykernel)",
   "language": "python",
   "name": "python3"
  },
  "language_info": {
   "codemirror_mode": {
    "name": "ipython",
    "version": 3
   },
   "file_extension": ".py",
   "mimetype": "text/x-python",
   "name": "python",
   "nbconvert_exporter": "python",
   "pygments_lexer": "ipython3",
   "version": "3.12.2"
  }
 },
 "nbformat": 4,
 "nbformat_minor": 5
}
