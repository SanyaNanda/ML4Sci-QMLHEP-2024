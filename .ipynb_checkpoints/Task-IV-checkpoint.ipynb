{
 "cells": [
  {
   "cell_type": "markdown",
   "id": "803a9151-5850-4add-92b1-fdf6fa90c35e",
   "metadata": {},
   "source": [
    "# QML-HEP GSoC 2024 Tasks"
   ]
  },
  {
   "cell_type": "markdown",
   "id": "4c8caf32-e634-4c89-95d9-9bc4a904d0a3",
   "metadata": {},
   "source": [
    "### Task IV: Quantum Generative Adversarial Network (QGAN)\n",
    "You will explore how best to apply a quantum generative adversarial network\n",
    "(QGAN) to solve a High Energy Data analysis issue, more specifically, separating\n",
    "the signal events from the background events. You should use the Google Cirq and\n",
    "Tensorflow Quantum (TFQ) libraries for this task.\n",
    "A set of input samples (simulated with Delphes) is provided in NumPy NPZ format\n",
    "[Download Input]. In the input file, there are only 100 samples for training and 100\n",
    "samples for testing so it won’t take much computing resources to accomplish this\n",
    "task. The signal events are labeled with 1 while the background events are labeled\n",
    "with 0.\n",
    "Be sure to show that you understand how to fine tune your machine learning\n",
    "model to improve the performance. The performance can be evaluated with\n",
    "classification accuracy or Area Under ROC Curve (AUC).\n"
   ]
  },
  {
   "cell_type": "code",
   "execution_count": null,
   "id": "788f72bf-6bcb-4180-aa66-11fdbb909b29",
   "metadata": {},
   "outputs": [],
   "source": []
  }
 ],
 "metadata": {
  "kernelspec": {
   "display_name": "Python 3 (ipykernel)",
   "language": "python",
   "name": "python3"
  },
  "language_info": {
   "codemirror_mode": {
    "name": "ipython",
    "version": 3
   },
   "file_extension": ".py",
   "mimetype": "text/x-python",
   "name": "python",
   "nbconvert_exporter": "python",
   "pygments_lexer": "ipython3",
   "version": "3.12.2"
  }
 },
 "nbformat": 4,
 "nbformat_minor": 5
}
