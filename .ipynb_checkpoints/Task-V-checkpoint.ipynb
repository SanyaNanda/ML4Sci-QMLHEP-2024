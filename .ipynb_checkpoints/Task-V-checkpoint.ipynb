{
 "cells": [
  {
   "cell_type": "markdown",
   "id": "819148ac-54d5-45db-81b4-48ad429e4716",
   "metadata": {},
   "source": [
    "# QML-HEP GSoC 2024 Tasks"
   ]
  },
  {
   "cell_type": "markdown",
   "id": "cee6018a-aa7f-4970-8a6a-62ca87bcc04f",
   "metadata": {
    "jp-MarkdownHeadingCollapsed": true
   },
   "source": [
    "### Task V: Quantum Graph Neural Network (QGNN)\n",
    "In task II you already worked with a classical GNN.\n",
    "- Describe a possibility for a QGNN circuit, which takes advantage of the\n",
    "graph representation of the data\n",
    "- Implement and draw the circuit.\n"
   ]
  },
  {
   "cell_type": "code",
   "execution_count": null,
   "id": "0058d187-1484-4292-9a88-cf9f03a8f371",
   "metadata": {},
   "outputs": [],
   "source": []
  }
 ],
 "metadata": {
  "kernelspec": {
   "display_name": "Python 3 (ipykernel)",
   "language": "python",
   "name": "python3"
  },
  "language_info": {
   "codemirror_mode": {
    "name": "ipython",
    "version": 3
   },
   "file_extension": ".py",
   "mimetype": "text/x-python",
   "name": "python",
   "nbconvert_exporter": "python",
   "pygments_lexer": "ipython3",
   "version": "3.12.2"
  }
 },
 "nbformat": 4,
 "nbformat_minor": 5
}
