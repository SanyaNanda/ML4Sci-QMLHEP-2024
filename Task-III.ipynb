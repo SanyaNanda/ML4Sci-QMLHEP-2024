{
 "cells": [
  {
   "cell_type": "markdown",
   "id": "1dc395fc-32e1-414d-bca1-d85203d6ce3d",
   "metadata": {},
   "source": [
    "# QML-HEP GSoC 2024 Tasks\n",
    "\n",
    "## Task III: Open Task\n",
    "\n",
    "Please comment on quantum computing or quantum machine learning. You can also\n",
    "comment on one quantum algorithm or one quantum software you are familiar with.\n",
    "You can also suggest methods you think are good and you would like to work on.\n",
    "\n",
    "<hr>\n",
    "\n",
    "### How I developed interest in the field\n",
    "In High school, I was introduced to the concept of Schrodinger's Cat for the first time and it roped me in! Later, I enrolled in a course by the coding school on Quantum Computing, that turned out to be an enriching experience in understanding the fundamentals of quantum mechanics and computing. With time and practice, I made a youtube series on the basics of quantum computing to encapsulate my learnings, which helped me in becoming IBM Quantum Advocate. Recently, I participated in TCS Quantum Challenge to develop a quantum solution for flight allocation problem. \n",
    "\n",
    "### 1. Quantum Computing\n",
    "**Classical Computing** In the classical world, bits represents either of the 2 states, 0 or 1. We use bits to represent all the characters we use, all the code that the machine understands etc, it is how we communicate with the computers. What do these bits represent physically? Flow of current through the transistors in our devices, if the current is flowing the bit will be 1, otherwise 0. Essentially, controlled flow of electrons through transistors gave rise to computers as we know them.\n",
    "\n",
    "**So What's the problem?** The number of transistors that can be fit in a fixed area is increasing very fast as shown by Moore's Law, due to their decreasing size. They are so small now that the area of a coin contains billions of them. Consider this analogy, if the size of a transistor is compared to a skyscrapper, then the atom would be a man. As the size of transistors is getting smaller, its switch like property that controls the flow of electrons is diminishing, electrons are able to move through the barrier that transistors used be, this is called quantum tunnelling. This breaks the switch like property of the transistor, the very basis of classical computing.\n",
    "\n",
    "**Why Quantum Computing?** Simply put, it solves the physical limitations of classical computing and adds considerable speed up to problems that were hitherto NP hard.\n",
    "\n",
    "**Quantum Computing Basics** \n",
    "From Eistiens's photoelectric effect, we know photons are particles and from double slit experiment we know that electrons are wave-like, both of them together establish the wave-particle duality of particles. Meaning, a qubit (quantum bit) can be in multiple states simultaneously (0,1, and everything in between) until we measure it and it collapses into a classical bit of 1 or 0. Analogous to a spinning coin representing a qubit and then it collapses into a bit of heads or tails. In brevity, classical computing is deterministic and quantum computing is probablistic. The same amount of information 8 classical bits store can be stored in 3 qubits, which gives quantum solutions an exponential speedup. Imagine, a child is searching for something in a room and can look at 3 places, it will look at the 3 places one by one, it finds the object in the last place and looking at each place cost a second then the total time taken was 3 seconds, but if there are 3 children they all can look at the 3 places simultaneously and 1 of them will find the object and time spent would only be 1 sec. That's how quantum speed-up works.\n",
    "\n",
    "**Concepts that give rise to everything else** \n",
    "These 3 weird quantum properties enable the design of quantum algorithms which can compute in ways classical computers cannot, making quantum computers more powerful for solving certain types of problems are as follows:\n",
    "1. **Intereference:** Wave like nature of particles causing crests and troughs\n",
    "2. **Superposition:** Being in multiple states before measurement, like the spinning coin\n",
    "3. **Entanglement:** If one qubit is measured, then we can correctly predict the state of the qubit it is entangled with, without measuring for it and even if they are far away.\n",
    "\n",
    "Hear me talk about more! \n",
    "https://www.youtube.com/watch?v=WMRsQxDJ19Q&list=PLY6CWF3NWYvTducILRZCATDwW9DjZvumJ&index=1\n",
    "\n",
    "**Quantum Machine Learning**\n",
    "Quantum Machine Learning introduces fundamental computational building blocks - such as Quantum Kernels and Quantum Neural Networks - used in different applications, consisting of classification and regression problems. The design is easy to use and allows users to rapidly prototype initial models without deep quantum computing knowledge. It is flexible, and users can easily extend it to support cutting-edge quantum machine learning research. As a contributor to the field, I got a chance to contribute in these tutorials:\n",
    "\n",
    "https://qiskit-community.github.io/qiskit-machine-learning/tutorials/01_neural_networks.html\n",
    "\n",
    "https://github.com/qiskit-community/qiskit-machine-learning/commits?author=SanyaNanda d in the Proposal"
   ]
  },
  {
   "cell_type": "markdown",
   "id": "2a75bbfe-42f7-4c80-b3c0-ea59be05e2e9",
   "metadata": {},
   "source": [
    "### 2. Quantum Algorithm or Quantum Software\n",
    "\n",
    "#### QAOA: Quantum Approximate Optimization Algorithm\n",
    "\n",
    "I recently learned and used this algorithm in a challenge to solve for Flight Allocation Problem. At its core, QAOA is an optimsation technique that aims to minimize/maximize a cost/profit function that is classical in nature but encoded in a quantum system. In the airline fleet allocation problem, the objective function was to minimize the total cost from each and every flight, by encoding the decision variables and constraints as qubits in a quantum parameterised circuit.\n",
    "\n",
    "- The objective function and contraints are converted into a quantum problem.\n",
    "  \n",
    "- The quantum system is initialized in uniform superposition of all possible states by applying Hadamard gates to all qubits in the system. This step ensures that the quantum algorithm considers all possible solutions simultaneously and uses the one of the 3 cocnepts discussed earlier.\n",
    "  \n",
    "- As the first step we encoding the optimization problem into a Hamiltonian, H_c known as the cost Hamiltonian. Applying rotations on the circuit using the coefficients from the modelled problem as angles.\n",
    "  \n",
    "- The application of a sequence of unitary transformations to the initial state is next. These transformations are defined by two Hamiltonians: the cost Hamiltonian H_c and a mixing Hamiltonian H_b.\n",
    "  \n",
    "- The algorithm alternates between these two, applying them for durations characterized by parameters β and γ, respectively.\n",
    "  \n",
    "- These parameters are classical and can be optimized through classical methods to find the best approximation to the solution and then used in QAOA, this way of doing things is calld Warm-start QAOA.\n",
    "  \n",
    "- The sequence of applying H_c and H_b, characterized by p pairs of β and γ (p is the depth), leads to the creation of a final quantum state.\n",
    "  \n",
    "- The final quantum state is measured, collapsing it to a classical bitstring that represents a candidate solution to the optimization problem.\n",
    "\n"
   ]
  },
  {
   "cell_type": "markdown",
   "id": "261736a6-e1d1-4f40-a1b4-3eb002dc3cf6",
   "metadata": {},
   "source": [
    "### 3. Methods we can use\n",
    "Detailed in the Proposal"
   ]
  }
 ],
 "metadata": {
  "kernelspec": {
   "display_name": "Python 3 (ipykernel)",
   "language": "python",
   "name": "python3"
  },
  "language_info": {
   "codemirror_mode": {
    "name": "ipython",
    "version": 3
   },
   "file_extension": ".py",
   "mimetype": "text/x-python",
   "name": "python",
   "nbconvert_exporter": "python",
   "pygments_lexer": "ipython3",
   "version": "3.12.2"
  }
 },
 "nbformat": 4,
 "nbformat_minor": 5
}
