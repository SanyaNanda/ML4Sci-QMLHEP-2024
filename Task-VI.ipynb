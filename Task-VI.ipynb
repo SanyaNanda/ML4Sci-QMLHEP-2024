{
 "cells": [
  {
   "cell_type": "markdown",
   "id": "878ac18c-2b71-43b3-bafa-183cdc2ef0dd",
   "metadata": {},
   "source": [
    "# QML-HEP GSoC 2024 Tasks"
   ]
  },
  {
   "cell_type": "markdown",
   "id": "30b4cdd6-67ec-4707-b09c-c6d2569754c1",
   "metadata": {},
   "source": [
    "### Task VI: Quantum representation learning\n",
    "In this task you should implement a simple representation learning scheme based on\n",
    "a contrastive loss:\n",
    "- Load the MNIST dataset\n",
    "- Write a function which takes an image and prepares a quantum state. This\n",
    "function should have trainable parameters which we want to learn in order to\n",
    "have good quantum representations\n",
    "- Create a circuit with which takes two images and embeds both as quantum\n",
    "states with the function you wrote before. Afterwards the circuit should\n",
    "perform a SWAP test between the two states. In the end the measurement\n",
    "should give the fidelity of the quantum states.\n",
    "- Train the circuit parameters with a contrastive loss: For two MNIST images in\n",
    "the same class the fidelity should b while for images of different\n",
    "classes the fidelity should be minimized.e maximized,"
   ]
  },
  {
   "cell_type": "code",
   "execution_count": null,
   "id": "3dca63a2-b6d3-4027-a8b4-6637fb0f18a5",
   "metadata": {},
   "outputs": [],
   "source": []
  }
 ],
 "metadata": {
  "kernelspec": {
   "display_name": "Python 3 (ipykernel)",
   "language": "python",
   "name": "python3"
  },
  "language_info": {
   "codemirror_mode": {
    "name": "ipython",
    "version": 3
   },
   "file_extension": ".py",
   "mimetype": "text/x-python",
   "name": "python",
   "nbconvert_exporter": "python",
   "pygments_lexer": "ipython3",
   "version": "3.12.2"
  }
 },
 "nbformat": 4,
 "nbformat_minor": 5
}
