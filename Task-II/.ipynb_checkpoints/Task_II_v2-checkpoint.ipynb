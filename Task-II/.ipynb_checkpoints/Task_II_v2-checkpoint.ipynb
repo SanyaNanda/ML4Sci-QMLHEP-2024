{
  "cells": [
    {
      "cell_type": "markdown",
      "id": "2e4fbe9a-d743-490a-91f3-bc22b85a8749",
      "metadata": {
        "id": "2e4fbe9a-d743-490a-91f3-bc22b85a8749"
      },
      "source": [
        "# QML-HEP GSoC 2024 Tasks"
      ]
    },
    {
      "cell_type": "markdown",
      "id": "2d6a1162-dcfb-47ca-9289-f50afa2dc130",
      "metadata": {
        "id": "2d6a1162-dcfb-47ca-9289-f50afa2dc130"
      },
      "source": [
        "### Task II: Classical Graph Neural Network (GNN\n",
        "\n",
        "● Choose 2 Graph-based architectures of your choice to classify jets as being quarks or gluons. Provide a description on what considerations you have taken to project this point-cloud dataset to a set of interconnected nodes and edges.\n",
        "\n",
        "● Discuss the resulting performance of the 2 chosen architectures."
      ]
    },
    {
      "cell_type": "markdown",
      "source": [
        "## Importing Required Libraries"
      ],
      "metadata": {
        "id": "8148jvr3BmAJ"
      },
      "id": "8148jvr3BmAJ"
    },
    {
      "cell_type": "code",
      "source": [
        "!pip install energyflow"
      ],
      "metadata": {
        "colab": {
          "base_uri": "https://localhost:8080/"
        },
        "id": "SdgkiBEncj3r",
        "outputId": "67f512c2-fb80-4316-fc2e-aec983dc693d"
      },
      "id": "SdgkiBEncj3r",
      "execution_count": 1,
      "outputs": [
        {
          "output_type": "stream",
          "name": "stdout",
          "text": [
            "Collecting energyflow\n",
            "  Downloading EnergyFlow-1.3.2-py2.py3-none-any.whl (700 kB)\n",
            "\u001b[?25l     \u001b[90m━━━━━━━━━━━━━━━━━━━━━━━━━━━━━━━━━━━━━━━━\u001b[0m \u001b[32m0.0/700.5 kB\u001b[0m \u001b[31m?\u001b[0m eta \u001b[36m-:--:--\u001b[0m\r\u001b[2K     \u001b[91m━━━━━\u001b[0m\u001b[90m╺\u001b[0m\u001b[90m━━━━━━━━━━━━━━━━━━━━━━━━━━━━━━━━━━\u001b[0m \u001b[32m92.2/700.5 kB\u001b[0m \u001b[31m2.4 MB/s\u001b[0m eta \u001b[36m0:00:01\u001b[0m\r\u001b[2K     \u001b[91m━━━━━━━━━━━━━━━━━━━━━━━━━━━━━━\u001b[0m\u001b[90m╺\u001b[0m\u001b[90m━━━━━━━━━\u001b[0m \u001b[32m532.5/700.5 kB\u001b[0m \u001b[31m7.5 MB/s\u001b[0m eta \u001b[36m0:00:01\u001b[0m\r\u001b[2K     \u001b[90m━━━━━━━━━━━━━━━━━━━━━━━━━━━━━━━━━━━━━━━━\u001b[0m \u001b[32m700.5/700.5 kB\u001b[0m \u001b[31m7.2 MB/s\u001b[0m eta \u001b[36m0:00:00\u001b[0m\n",
            "\u001b[?25hRequirement already satisfied: numpy>=1.16.0 in /usr/local/lib/python3.10/dist-packages (from energyflow) (1.25.2)\n",
            "Requirement already satisfied: six>=1.10.0 in /usr/local/lib/python3.10/dist-packages (from energyflow) (1.16.0)\n",
            "Requirement already satisfied: h5py>=2.9.0 in /usr/local/lib/python3.10/dist-packages (from energyflow) (3.9.0)\n",
            "Collecting wasserstein>=0.3.1 (from energyflow)\n",
            "  Downloading Wasserstein-1.1.0-cp310-cp310-manylinux_2_17_x86_64.manylinux2014_x86_64.whl (502 kB)\n",
            "\u001b[2K     \u001b[90m━━━━━━━━━━━━━━━━━━━━━━━━━━━━━━━━━━━━━━━━\u001b[0m \u001b[32m502.2/502.2 kB\u001b[0m \u001b[31m11.6 MB/s\u001b[0m eta \u001b[36m0:00:00\u001b[0m\n",
            "\u001b[?25hCollecting wurlitzer>=2.0.0 (from wasserstein>=0.3.1->energyflow)\n",
            "  Downloading wurlitzer-3.0.3-py3-none-any.whl (7.3 kB)\n",
            "Installing collected packages: wurlitzer, wasserstein, energyflow\n",
            "Successfully installed energyflow-1.3.2 wasserstein-1.1.0 wurlitzer-3.0.3\n"
          ]
        }
      ]
    },
    {
      "cell_type": "code",
      "execution_count": 2,
      "id": "c576669d-929e-43d6-bc44-f7a9ed5a5f84",
      "metadata": {
        "id": "c576669d-929e-43d6-bc44-f7a9ed5a5f84"
      },
      "outputs": [],
      "source": [
        "import matplotlib.pyplot as plt\n",
        "import numpy as np\n",
        "import os\n",
        "from sklearn.utils import shuffle\n",
        "from sklearn.model_selection import train_test_split\n",
        "from tf_keras_model_v2 import get_particle_net_lite_v2\n",
        "import energyflow\n",
        "from tensorflow import keras"
      ]
    },
    {
      "cell_type": "markdown",
      "source": [
        "## Dataset\n",
        "\n",
        "#### X: (100000,M,4)\n",
        "* 50k quark and 50k gluon jets\n",
        "* where M is the max multiplicity of the jets in that file (other jets have been padded with zero-particles)\n",
        "* features of each particle are its **pt, rapidity, azimuthal angle, and pdgid**\n",
        "\n",
        "\n",
        "#### y: (100000,)\n",
        "\n",
        "an array of labels for the jets where **gluon is 0** and **quark is 1**"
      ],
      "metadata": {
        "id": "xyjeLAS2-Ckt"
      },
      "id": "xyjeLAS2-Ckt"
    },
    {
      "cell_type": "code",
      "execution_count": 3,
      "id": "867bbab0-6aee-478d-9eb6-52d024ff2fb3",
      "metadata": {
        "colab": {
          "base_uri": "https://localhost:8080/"
        },
        "id": "867bbab0-6aee-478d-9eb6-52d024ff2fb3",
        "outputId": "7a49e6b6-5937-432e-8ee7-4830b4aa9e9d"
      },
      "outputs": [
        {
          "output_type": "stream",
          "name": "stdout",
          "text": [
            "Downloading QG_jets.npz from https://www.dropbox.com/s/fclsl7pukcpobsb/QG_jets.npz?dl=1 to /root/.energyflow/datasets\n",
            "URL fetch failure on https://www.dropbox.com/s/fclsl7pukcpobsb/QG_jets.npz?dl=1: None -- Not Found\n",
            "Failed to download QG_jets.npz from source 'dropbox', trying next source...\n",
            "Downloading QG_jets.npz from https://zenodo.org/record/3164691/files/QG_jets.npz?download=1 to /root/.energyflow/datasets\n"
          ]
        }
      ],
      "source": [
        "qg_dataset = energyflow.qg_jets.load(num_data=100000, pad=True, ncol=4, generator='pythia',with_bc=False, cache_dir='~/.energyflow')"
      ]
    },
    {
      "cell_type": "code",
      "execution_count": 4,
      "id": "6be4c1f7-590e-402b-8f8b-1faa8d9b6e48",
      "metadata": {
        "colab": {
          "base_uri": "https://localhost:8080/"
        },
        "id": "6be4c1f7-590e-402b-8f8b-1faa8d9b6e48",
        "outputId": "e5dde850-2c9b-4f06-a5f6-b084d2cf87b7"
      },
      "outputs": [
        {
          "output_type": "stream",
          "name": "stdout",
          "text": [
            "Shape of X:  (100000, 139, 4)\n",
            "X: pt, rapidity, azimuthal angle, and pdgid  [ 0.26876914  0.35690317  4.74138734 22.        ]\n"
          ]
        }
      ],
      "source": [
        "x = qg_dataset[0]\n",
        "\n",
        "print(\"Shape of X: \", x.shape)\n",
        "print(\"X: pt, rapidity, azimuthal angle, and pdgid \",x[0][0])"
      ]
    },
    {
      "cell_type": "code",
      "execution_count": 5,
      "id": "85276bb6-c41f-4620-ace1-6238dd9d3d1a",
      "metadata": {
        "colab": {
          "base_uri": "https://localhost:8080/"
        },
        "id": "85276bb6-c41f-4620-ace1-6238dd9d3d1a",
        "outputId": "6fd2bc6c-cebb-4aa9-dce2-320f2b40ea57"
      },
      "outputs": [
        {
          "output_type": "stream",
          "name": "stdout",
          "text": [
            "y: 0 or 1 (gluon or quark):  1.0\n",
            "Shape of y: (100000,)\n",
            "y after one-Hot Encoding: [quark, gluon]   [0. 1.]\n",
            "Shape of y: (100000, 2)\n"
          ]
        }
      ],
      "source": [
        "y = qg_dataset[1]\n",
        "print(\"y: 0 or 1 (gluon or quark): \",y[0])\n",
        "print(\"Shape of y:\", y.shape)\n",
        "y = keras.utils.to_categorical(y)\n",
        "print(\"y after one-Hot Encoding: [quark, gluon]  \", y[0])\n",
        "print(\"Shape of y:\", y.shape)"
      ]
    },
    {
      "cell_type": "code",
      "execution_count": 6,
      "id": "ad4a9584-b60a-48f8-ab34-f1ad0642e9e6",
      "metadata": {
        "colab": {
          "base_uri": "https://localhost:8080/"
        },
        "id": "ad4a9584-b60a-48f8-ab34-f1ad0642e9e6",
        "outputId": "bdf3a824-bf7b-43a3-d932-1e3c6262bf9f"
      },
      "outputs": [
        {
          "output_type": "stream",
          "name": "stdout",
          "text": [
            "Shape of training dataset : (70000, 139, 4) (70000, 2)\n",
            "Shape of testing dataset : ((15000, 139, 4), (15000, 2))\n",
            "Shape of validation dataset : ((15000, 139, 4), (15000, 2))\n"
          ]
        }
      ],
      "source": [
        "# Shuffling the dataset to avoiad any unpecedented bias\n",
        "x, y = shuffle(x, y, random_state=0)\n",
        "\n",
        "# Splitting the dataset into train (70% of the datapoints) and test (30% of the datapoints)\n",
        "x_train, x_test, y_train, y_test = train_test_split(x, y, test_size=0.30, random_state=42)\n",
        "\n",
        "# Further, splitting the test into 50% test and 50% validation dataset\n",
        "x_test, x_val, y_test, y_val = train_test_split(x_test, y_test, test_size=0.5, random_state=42)\n",
        "\n",
        "print(\"Shape of training dataset :\", x_train.shape, y_train.shape)\n",
        "print(\"Shape of testing dataset :\", (x_test.shape, y_test.shape))\n",
        "print(\"Shape of validation dataset :\", (x_val.shape, y_val.shape))"
      ]
    },
    {
      "cell_type": "code",
      "execution_count": 7,
      "id": "8e2c7807-67cc-41b7-81e3-e3c555a884ce",
      "metadata": {
        "colab": {
          "base_uri": "https://localhost:8080/"
        },
        "id": "8e2c7807-67cc-41b7-81e3-e3c555a884ce",
        "outputId": "b62aceff-2bf9-4baa-a22b-27a2c78df483"
      },
      "outputs": [
        {
          "output_type": "stream",
          "name": "stdout",
          "text": [
            "Before: The shape of x_train is (70000, 139, 4) where 70000 is the number of samples, 139 is the number of features, and 4 is the number of components in each feature vector\n",
            "After: The result will have a shape of (70000, 139), where each element now represents the sum of the components for a given feature in the sample.\n",
            "\n",
            "Instance of Masked X:\n",
            " [   29.20243269    27.50561143    30.26089051   220.41819997\n",
            "    27.95042087    28.15969933   329.0687446     27.57628735\n",
            "  -206.06003465   218.08468374    26.41602355    27.02195013\n",
            "    31.79622486    26.59246689    26.88924931  -202.09822736\n",
            "    26.71899363    31.23462352  -310.42681747    27.70451205\n",
            "    30.7169403   -198.56554041  2233.77838649    36.42720615\n",
            "    29.23621805  -187.38676832    33.46071738   268.17256202\n",
            "    32.3521241  -2054.01856237   118.7019814     56.63953271\n",
            "   151.53934524    57.07618763     0.             0.\n",
            "     0.             0.             0.             0.\n",
            "     0.             0.             0.             0.\n",
            "     0.             0.             0.             0.\n",
            "     0.             0.             0.             0.\n",
            "     0.             0.             0.             0.\n",
            "     0.             0.             0.             0.\n",
            "     0.             0.             0.             0.\n",
            "     0.             0.             0.             0.\n",
            "     0.             0.             0.             0.\n",
            "     0.             0.             0.             0.\n",
            "     0.             0.             0.             0.\n",
            "     0.             0.             0.             0.\n",
            "     0.             0.             0.             0.\n",
            "     0.             0.             0.             0.\n",
            "     0.             0.             0.             0.\n",
            "     0.             0.             0.             0.\n",
            "     0.             0.             0.             0.\n",
            "     0.             0.             0.             0.\n",
            "     0.             0.             0.             0.\n",
            "     0.             0.             0.             0.\n",
            "     0.             0.             0.             0.\n",
            "     0.             0.             0.             0.\n",
            "     0.             0.             0.             0.\n",
            "     0.             0.             0.             0.\n",
            "     0.             0.             0.             0.\n",
            "     0.             0.             0.        ]\n",
            "Binary Mask:\n",
            " [[1.]\n",
            " [1.]\n",
            " [1.]\n",
            " [1.]\n",
            " [1.]\n",
            " [1.]\n",
            " [1.]\n",
            " [1.]\n",
            " [1.]\n",
            " [1.]\n",
            " [1.]\n",
            " [1.]\n",
            " [1.]\n",
            " [1.]\n",
            " [1.]\n",
            " [1.]\n",
            " [1.]\n",
            " [1.]\n",
            " [1.]\n",
            " [1.]\n",
            " [1.]\n",
            " [1.]\n",
            " [1.]\n",
            " [1.]\n",
            " [1.]\n",
            " [1.]\n",
            " [1.]\n",
            " [1.]\n",
            " [1.]\n",
            " [1.]\n",
            " [1.]\n",
            " [1.]\n",
            " [1.]\n",
            " [1.]\n",
            " [0.]\n",
            " [0.]\n",
            " [0.]\n",
            " [0.]\n",
            " [0.]\n",
            " [0.]\n",
            " [0.]\n",
            " [0.]\n",
            " [0.]\n",
            " [0.]\n",
            " [0.]\n",
            " [0.]\n",
            " [0.]\n",
            " [0.]\n",
            " [0.]\n",
            " [0.]\n",
            " [0.]\n",
            " [0.]\n",
            " [0.]\n",
            " [0.]\n",
            " [0.]\n",
            " [0.]\n",
            " [0.]\n",
            " [0.]\n",
            " [0.]\n",
            " [0.]\n",
            " [0.]\n",
            " [0.]\n",
            " [0.]\n",
            " [0.]\n",
            " [0.]\n",
            " [0.]\n",
            " [0.]\n",
            " [0.]\n",
            " [0.]\n",
            " [0.]\n",
            " [0.]\n",
            " [0.]\n",
            " [0.]\n",
            " [0.]\n",
            " [0.]\n",
            " [0.]\n",
            " [0.]\n",
            " [0.]\n",
            " [0.]\n",
            " [0.]\n",
            " [0.]\n",
            " [0.]\n",
            " [0.]\n",
            " [0.]\n",
            " [0.]\n",
            " [0.]\n",
            " [0.]\n",
            " [0.]\n",
            " [0.]\n",
            " [0.]\n",
            " [0.]\n",
            " [0.]\n",
            " [0.]\n",
            " [0.]\n",
            " [0.]\n",
            " [0.]\n",
            " [0.]\n",
            " [0.]\n",
            " [0.]\n",
            " [0.]\n",
            " [0.]\n",
            " [0.]\n",
            " [0.]\n",
            " [0.]\n",
            " [0.]\n",
            " [0.]\n",
            " [0.]\n",
            " [0.]\n",
            " [0.]\n",
            " [0.]\n",
            " [0.]\n",
            " [0.]\n",
            " [0.]\n",
            " [0.]\n",
            " [0.]\n",
            " [0.]\n",
            " [0.]\n",
            " [0.]\n",
            " [0.]\n",
            " [0.]\n",
            " [0.]\n",
            " [0.]\n",
            " [0.]\n",
            " [0.]\n",
            " [0.]\n",
            " [0.]\n",
            " [0.]\n",
            " [0.]\n",
            " [0.]\n",
            " [0.]\n",
            " [0.]\n",
            " [0.]\n",
            " [0.]\n",
            " [0.]\n",
            " [0.]\n",
            " [0.]\n",
            " [0.]\n",
            " [0.]\n",
            " [0.]]\n"
          ]
        }
      ],
      "source": [
        "# Masking\n",
        "\n",
        "# This function call computes the sum of x_train along its third axis (axis=2).\n",
        "# For a 3D array, this means it's adding up the values across the vector components of each feature,\n",
        "# effectively reducing the 3D array to a 2D array.\n",
        "\n",
        "mask_train = np.sum(x_train, axis=2)\n",
        "print(f\"Before: The shape of x_train is {x_train.shape} where {x_train.shape[0]} is the number of samples, {x_train.shape[1]} is the number of features, and {x_train.shape[2]} is the number of components in each feature vector\")\n",
        "print(f\"After: The result will have a shape of {mask_train.shape}, where each element now represents the sum of the components for a given feature in the sample.\\n\")\n",
        "\n",
        "print(f\"Instance of Masked X:\\n {mask_train[0]}\")\n",
        "\n",
        "# Binary Mask\n",
        "\n",
        "# Identifying Non-Zero Features:\n",
        "# By summing across the components, we effectively measure the \"activity\" or \"presence\" of each feature in each sample.\n",
        "# If a feature vector is entirely zeros, its sum will be zero, indicating no activity or presence.\n",
        "\n",
        "mask_train = np.array(mask_train != 0, np.float32)\n",
        "\n",
        "# Reshaping mask for a third axis\n",
        "mask_train = mask_train.reshape(x_train.shape[0], x_train.shape[1], 1)\n",
        "print(f\"Binary Mask:\\n {mask_train[0]}\")"
      ]
    },
    {
      "cell_type": "code",
      "execution_count": 8,
      "id": "bc021cde-e88e-4b13-b4ca-03dbb9df2892",
      "metadata": {
        "id": "bc021cde-e88e-4b13-b4ca-03dbb9df2892"
      },
      "outputs": [],
      "source": [
        "# Similarly for Test and Validation dataset\n",
        "mask_val = np.sum(x_val, axis=2)\n",
        "mask_val = np.array(mask_val != 0, np.float32)\n",
        "mask_val = mask_val.reshape(x_val.shape[0], x_val.shape[1], 1)\n",
        "\n",
        "mask_test = np.sum(x_test, axis=2)\n",
        "mask_test = np.array(mask_test != 0, np.float32)\n",
        "mask_test = mask_val.reshape(x_test.shape[0], x_test.shape[1], 1)\n"
      ]
    },
    {
      "cell_type": "markdown",
      "source": [
        "ParticleNet model requires a 3-dim dataset with the following 3 features:\n",
        "\n",
        "1. **points**: contain rapidity, azimuthal angle used for computing the distance of KNN\n",
        "2. **features**: the 4 features of the particles\n",
        "3. **mask**: mask array taking a value of 0 for padded positions\n",
        "\n",
        "\n",
        "\n"
      ],
      "metadata": {
        "id": "LSKOxW45IiW2"
      },
      "id": "LSKOxW45IiW2"
    },
    {
      "cell_type": "code",
      "execution_count": 9,
      "id": "01ff5cee-3d1f-401b-89bc-52f874bfcccb",
      "metadata": {
        "id": "01ff5cee-3d1f-401b-89bc-52f874bfcccb"
      },
      "outputs": [],
      "source": [
        "train_dataset = {\n",
        "    'points': x_train[:, :, 1:3],\n",
        "    'features': x_train,\n",
        "    'mask': mask_train\n",
        "}\n",
        "\n",
        "test_dataset = {\n",
        "    'points': x_test[:, :, 1:3],\n",
        "    'features': x_test,\n",
        "    'mask': mask_test\n",
        "}\n",
        "\n",
        "val_dataset = {\n",
        "    'points': x_val[:, :, 1:3],\n",
        "    'features': x_val,\n",
        "    'mask': mask_val\n",
        "}"
      ]
    },
    {
      "cell_type": "markdown",
      "source": [
        "### ParticleNet Model"
      ],
      "metadata": {
        "id": "PA_A8aLhJWSd"
      },
      "id": "PA_A8aLhJWSd"
    },
    {
      "cell_type": "code",
      "execution_count": 10,
      "id": "cd56d236-a702-4fb4-84a6-82bf7ad38830",
      "metadata": {
        "colab": {
          "base_uri": "https://localhost:8080/"
        },
        "id": "cd56d236-a702-4fb4-84a6-82bf7ad38830",
        "outputId": "e80215dc-c3b3-4513-c8f0-ff6574dab507"
      },
      "outputs": [
        {
          "output_type": "stream",
          "name": "stdout",
          "text": [
            "Learning rate: 0.001000\n",
            "Model: \"ParticleNetLiteV2\"\n",
            "__________________________________________________________________________________________________\n",
            " Layer (type)                Output Shape                 Param #   Connected to                  \n",
            "==================================================================================================\n",
            " points (InputLayer)         [(None, 139, 2)]             0         []                            \n",
            "                                                                                                  \n",
            " conv1d (Conv1D)             (None, 139, 64)              192       ['points[0][0]']              \n",
            "                                                                                                  \n",
            " batch_normalization (Batch  (None, 139, 64)              256       ['conv1d[0][0]']              \n",
            " Normalization)                                                                                   \n",
            "                                                                                                  \n",
            " features (InputLayer)       [(None, 139, 4)]             0         []                            \n",
            "                                                                                                  \n",
            " max_pooling1d (MaxPooling1  (None, 69, 64)               0         ['batch_normalization[0][0]'] \n",
            " D)                                                                                               \n",
            "                                                                                                  \n",
            " conv1d_3 (Conv1D)           (None, 139, 64)              320       ['features[0][0]']            \n",
            "                                                                                                  \n",
            " conv1d_1 (Conv1D)           (None, 69, 128)              8320      ['max_pooling1d[0][0]']       \n",
            "                                                                                                  \n",
            " batch_normalization_3 (Bat  (None, 139, 64)              256       ['conv1d_3[0][0]']            \n",
            " chNormalization)                                                                                 \n",
            "                                                                                                  \n",
            " batch_normalization_1 (Bat  (None, 69, 128)              512       ['conv1d_1[0][0]']            \n",
            " chNormalization)                                                                                 \n",
            "                                                                                                  \n",
            " conv1d_4 (Conv1D)           (None, 139, 128)             8320      ['batch_normalization_3[0][0]'\n",
            "                                                                    ]                             \n",
            "                                                                                                  \n",
            " max_pooling1d_1 (MaxPoolin  (None, 34, 128)              0         ['batch_normalization_1[0][0]'\n",
            " g1D)                                                               ]                             \n",
            "                                                                                                  \n",
            " batch_normalization_4 (Bat  (None, 139, 128)             512       ['conv1d_4[0][0]']            \n",
            " chNormalization)                                                                                 \n",
            "                                                                                                  \n",
            " conv1d_2 (Conv1D)           (None, 34, 256)              33024     ['max_pooling1d_1[0][0]']     \n",
            "                                                                                                  \n",
            " conv1d_5 (Conv1D)           (None, 139, 256)             33024     ['batch_normalization_4[0][0]'\n",
            "                                                                    ]                             \n",
            "                                                                                                  \n",
            " batch_normalization_2 (Bat  (None, 34, 256)              1024      ['conv1d_2[0][0]']            \n",
            " chNormalization)                                                                                 \n",
            "                                                                                                  \n",
            " batch_normalization_5 (Bat  (None, 139, 256)             1024      ['conv1d_5[0][0]']            \n",
            " chNormalization)                                                                                 \n",
            "                                                                                                  \n",
            " global_average_pooling1d (  (None, 256)                  0         ['batch_normalization_2[0][0]'\n",
            " GlobalAveragePooling1D)                                            ]                             \n",
            "                                                                                                  \n",
            " global_max_pooling1d (Glob  (None, 256)                  0         ['batch_normalization_5[0][0]'\n",
            " alMaxPooling1D)                                                    ]                             \n",
            "                                                                                                  \n",
            " concatenate (Concatenate)   (None, 512)                  0         ['global_average_pooling1d[0][\n",
            "                                                                    0]',                          \n",
            "                                                                     'global_max_pooling1d[0][0]']\n",
            "                                                                                                  \n",
            " dense (Dense)               (None, 256)                  131328    ['concatenate[0][0]']         \n",
            "                                                                                                  \n",
            " dropout (Dropout)           (None, 256)                  0         ['dense[0][0]']               \n",
            "                                                                                                  \n",
            " dense_1 (Dense)             (None, 128)                  32896     ['dropout[0][0]']             \n",
            "                                                                                                  \n",
            " dropout_1 (Dropout)         (None, 128)                  0         ['dense_1[0][0]']             \n",
            "                                                                                                  \n",
            " mask (InputLayer)           [(None, 139, 1)]             0         []                            \n",
            "                                                                                                  \n",
            " dense_2 (Dense)             (None, 2)                    258       ['dropout_1[0][0]']           \n",
            "                                                                                                  \n",
            "==================================================================================================\n",
            "Total params: 251266 (981.51 KB)\n",
            "Trainable params: 249474 (974.51 KB)\n",
            "Non-trainable params: 1792 (7.00 KB)\n",
            "__________________________________________________________________________________________________\n"
          ]
        }
      ],
      "source": [
        "num_classes = 2\n",
        "shapes = {k:train_dataset[k].shape[1:] for k in train_dataset}\n",
        "# shapes: {'points': (139, 2), 'features': (139, 4), 'mask': (139, 1)}\n",
        "\n",
        "model = get_particle_net_lite_v2(num_classes, shapes)\n",
        "\n",
        "# Training parameters\n",
        "batch_size = 1024\n",
        "epochs = 100\n",
        "\n",
        "# Learning Rate\n",
        "def lr_schedule(epoch):\n",
        "    lr = 1e-3\n",
        "    if epoch > 10:\n",
        "        lr *= 0.1\n",
        "    elif epoch > 20:\n",
        "        lr *= 0.01\n",
        "    print('Learning rate: %f' % lr)\n",
        "    return lr\n",
        "\n",
        "# Compiling Model\n",
        "model.compile(loss='categorical_crossentropy',\n",
        "              optimizer=keras.optimizers.legacy.Adam(learning_rate=lr_schedule(0)),\n",
        "              metrics=['accuracy',keras.metrics.AUC()])\n",
        "\n",
        "# Model Summary\n",
        "model.summary()"
      ]
    },
    {
      "cell_type": "code",
      "execution_count": 11,
      "id": "968276b3-4313-4a76-94ed-cb656c2b5d73",
      "metadata": {
        "colab": {
          "base_uri": "https://localhost:8080/",
          "height": 1000
        },
        "id": "968276b3-4313-4a76-94ed-cb656c2b5d73",
        "outputId": "f6dcf520-5e9b-4bdf-fad1-e1a8b961cd77"
      },
      "outputs": [
        {
          "output_type": "stream",
          "name": "stdout",
          "text": [
            "Learning rate: 0.001000\n",
            "Epoch 1/100\n",
            "69/69 [==============================] - 277s 4s/sample - loss: 0.8111 - accuracy: 0.7113 - auc: 0.7557 - val_loss: 0.9115 - val_accuracy: 0.5273 - val_auc: 0.6334 - lr: 0.0010\n",
            "Learning rate: 0.001000\n",
            "Epoch 2/100\n",
            "69/69 [==============================] - 278s 4s/sample - loss: 0.5106 - accuracy: 0.7643 - auc: 0.8346 - val_loss: 0.8152 - val_accuracy: 0.5039 - val_auc: 0.6340 - lr: 0.0010\n",
            "Learning rate: 0.001000\n",
            "Epoch 3/100\n",
            "69/69 [==============================] - 265s 4s/sample - loss: 0.5013 - accuracy: 0.7701 - auc: 0.8399 - val_loss: 0.8778 - val_accuracy: 0.5016 - val_auc: 0.6380 - lr: 0.0010\n",
            "Learning rate: 0.001000\n",
            "Epoch 4/100\n",
            "69/69 [==============================] - 286s 4s/sample - loss: 0.5034 - accuracy: 0.7703 - auc: 0.8390 - val_loss: 0.9199 - val_accuracy: 0.5002 - val_auc: 0.6434 - lr: 0.0010\n",
            "Learning rate: 0.001000\n",
            "Epoch 5/100\n",
            "69/69 [==============================] - 272s 4s/sample - loss: 0.4973 - accuracy: 0.7727 - auc: 0.8422 - val_loss: 0.7729 - val_accuracy: 0.4991 - val_auc: 0.6631 - lr: 0.0010\n",
            "Learning rate: 0.001000\n",
            "Epoch 6/100\n",
            "69/69 [==============================] - 287s 4s/sample - loss: 0.4957 - accuracy: 0.7729 - auc: 0.8432 - val_loss: 0.7886 - val_accuracy: 0.4992 - val_auc: 0.6621 - lr: 0.0010\n",
            "Learning rate: 0.001000\n",
            "Epoch 7/100\n",
            "69/69 [==============================] - 270s 4s/sample - loss: 0.4932 - accuracy: 0.7746 - auc: 0.8443 - val_loss: 0.7056 - val_accuracy: 0.5041 - val_auc: 0.6697 - lr: 0.0010\n",
            "Learning rate: 0.001000\n",
            "Epoch 8/100\n",
            "69/69 [==============================] - 268s 4s/sample - loss: 0.4922 - accuracy: 0.7745 - auc: 0.8446 - val_loss: 0.6716 - val_accuracy: 0.5535 - val_auc: 0.6821 - lr: 0.0010\n",
            "Learning rate: 0.001000\n",
            "Epoch 9/100\n",
            "69/69 [==============================] - 277s 4s/sample - loss: 0.4919 - accuracy: 0.7733 - auc: 0.8448 - val_loss: 0.6695 - val_accuracy: 0.5279 - val_auc: 0.6789 - lr: 0.0010\n",
            "Learning rate: 0.001000\n",
            "Epoch 10/100\n",
            "69/69 [==============================] - 268s 4s/sample - loss: 0.4887 - accuracy: 0.7759 - auc: 0.8469 - val_loss: 0.6615 - val_accuracy: 0.5414 - val_auc: 0.6817 - lr: 0.0010\n",
            "Learning rate: 0.001000\n",
            "Epoch 11/100\n",
            "69/69 [==============================] - 283s 4s/sample - loss: 0.4882 - accuracy: 0.7754 - auc: 0.8471 - val_loss: 0.5561 - val_accuracy: 0.7383 - val_auc: 0.8169 - lr: 0.0010\n",
            "Learning rate: 0.000100\n",
            "Epoch 12/100\n",
            "69/69 [==============================] - 272s 4s/sample - loss: 0.4850 - accuracy: 0.7782 - auc: 0.8498 - val_loss: 0.5368 - val_accuracy: 0.7561 - val_auc: 0.8337 - lr: 1.0000e-04\n",
            "Learning rate: 0.000100\n",
            "Epoch 13/100\n",
            "69/69 [==============================] - 286s 4s/sample - loss: 0.4828 - accuracy: 0.7782 - auc: 0.8512 - val_loss: 0.5366 - val_accuracy: 0.7598 - val_auc: 0.8341 - lr: 1.0000e-04\n",
            "Learning rate: 0.000100\n",
            "Epoch 14/100\n",
            "69/69 [==============================] - 269s 4s/sample - loss: 0.4826 - accuracy: 0.7781 - auc: 0.8512 - val_loss: 0.5223 - val_accuracy: 0.7729 - val_auc: 0.8496 - lr: 1.0000e-04\n",
            "Learning rate: 0.000100\n",
            "Epoch 15/100\n",
            "69/69 [==============================] - 285s 4s/sample - loss: 0.4810 - accuracy: 0.7791 - auc: 0.8521 - val_loss: 0.5509 - val_accuracy: 0.7467 - val_auc: 0.8220 - lr: 1.0000e-04\n",
            "Learning rate: 0.000100\n",
            "Epoch 16/100\n",
            "69/69 [==============================] - 273s 4s/sample - loss: 0.4812 - accuracy: 0.7794 - auc: 0.8521 - val_loss: 0.5491 - val_accuracy: 0.7455 - val_auc: 0.8211 - lr: 1.0000e-04\n",
            "Learning rate: 0.000100\n",
            "Epoch 17/100\n",
            "69/69 [==============================] - 285s 4s/sample - loss: 0.4811 - accuracy: 0.7808 - auc: 0.8521 - val_loss: 0.5413 - val_accuracy: 0.7519 - val_auc: 0.8273 - lr: 1.0000e-04\n",
            "Learning rate: 0.000100\n",
            "Epoch 18/100\n",
            "69/69 [==============================] - 275s 4s/sample - loss: 0.4798 - accuracy: 0.7795 - auc: 0.8528 - val_loss: 0.5581 - val_accuracy: 0.7281 - val_auc: 0.8028 - lr: 1.0000e-04\n",
            "Learning rate: 0.000100\n",
            "Epoch 19/100\n",
            "69/69 [==============================] - 271s 4s/sample - loss: 0.4809 - accuracy: 0.7801 - auc: 0.8521 - val_loss: 0.5354 - val_accuracy: 0.7565 - val_auc: 0.8309 - lr: 1.0000e-04\n",
            "Learning rate: 0.000100\n",
            "Epoch 20/100\n",
            "69/69 [==============================] - 279s 4s/sample - loss: 0.4795 - accuracy: 0.7811 - auc: 0.8529 - val_loss: 0.5049 - val_accuracy: 0.7819 - val_auc: 0.8576 - lr: 1.0000e-04\n",
            "Learning rate: 0.000100\n",
            "Epoch 21/100\n",
            "69/69 [==============================] - 271s 4s/sample - loss: 0.4789 - accuracy: 0.7809 - auc: 0.8533 - val_loss: 0.5521 - val_accuracy: 0.7409 - val_auc: 0.8170 - lr: 1.0000e-04\n",
            "Learning rate: 0.000100\n",
            "Epoch 22/100\n",
            "69/69 [==============================] - 282s 4s/sample - loss: 0.4796 - accuracy: 0.7801 - auc: 0.8531 - val_loss: 0.5086 - val_accuracy: 0.7815 - val_auc: 0.8578 - lr: 1.0000e-04\n",
            "Learning rate: 0.000100\n",
            "Epoch 23/100\n",
            "69/69 [==============================] - 271s 4s/sample - loss: 0.4789 - accuracy: 0.7811 - auc: 0.8533 - val_loss: 0.5517 - val_accuracy: 0.7391 - val_auc: 0.8132 - lr: 1.0000e-04\n",
            "Learning rate: 0.000100\n",
            "Epoch 24/100\n",
            "69/69 [==============================] - 287s 4s/sample - loss: 0.4787 - accuracy: 0.7807 - auc: 0.8536 - val_loss: 0.5339 - val_accuracy: 0.7621 - val_auc: 0.8371 - lr: 1.0000e-04\n",
            "Learning rate: 0.000100\n",
            "Epoch 25/100\n",
            "69/69 [==============================] - 274s 4s/sample - loss: 0.4783 - accuracy: 0.7808 - auc: 0.8537 - val_loss: 0.5373 - val_accuracy: 0.7566 - val_auc: 0.8315 - lr: 1.0000e-04\n",
            "Learning rate: 0.000100\n",
            "Epoch 26/100\n",
            "69/69 [==============================] - 280s 4s/sample - loss: 0.4779 - accuracy: 0.7815 - auc: 0.8541 - val_loss: 0.5332 - val_accuracy: 0.7589 - val_auc: 0.8334 - lr: 1.0000e-04\n",
            "Learning rate: 0.000100\n",
            "Epoch 27/100\n",
            "69/69 [==============================] - 268s 4s/sample - loss: 0.4774 - accuracy: 0.7810 - auc: 0.8543 - val_loss: 0.5183 - val_accuracy: 0.7775 - val_auc: 0.8522 - lr: 1.0000e-04\n",
            "Learning rate: 0.000100\n",
            "Epoch 28/100\n",
            "69/69 [==============================] - 268s 4s/sample - loss: 0.4781 - accuracy: 0.7814 - auc: 0.8538 - val_loss: 0.5050 - val_accuracy: 0.7833 - val_auc: 0.8609 - lr: 1.0000e-04\n",
            "Learning rate: 0.000100\n",
            "Epoch 29/100\n",
            "69/69 [==============================] - 284s 4s/sample - loss: 0.4765 - accuracy: 0.7824 - auc: 0.8549 - val_loss: 0.5580 - val_accuracy: 0.7333 - val_auc: 0.8038 - lr: 1.0000e-04\n",
            "Learning rate: 0.000100\n",
            "Epoch 30/100\n",
            "69/69 [==============================] - 274s 4s/sample - loss: 0.4777 - accuracy: 0.7802 - auc: 0.8538 - val_loss: 0.4995 - val_accuracy: 0.7833 - val_auc: 0.8610 - lr: 1.0000e-04\n",
            "Learning rate: 0.000100\n",
            "Epoch 31/100\n",
            " 0/69 [..............................] - ETA: 0s - loss: 0.4786 - accuracy: 0.7796 - auc: 0.8533"
          ]
        },
        {
          "output_type": "error",
          "ename": "KeyboardInterrupt",
          "evalue": "",
          "traceback": [
            "\u001b[0;31m---------------------------------------------------------------------------\u001b[0m",
            "\u001b[0;31mKeyboardInterrupt\u001b[0m                         Traceback (most recent call last)",
            "\u001b[0;32m<ipython-input-11-d66e0996c301>\u001b[0m in \u001b[0;36m<cell line: 11>\u001b[0;34m()\u001b[0m\n\u001b[1;32m      9\u001b[0m \u001b[0;34m\u001b[0m\u001b[0m\n\u001b[1;32m     10\u001b[0m \u001b[0;31m# Fitting the model on training dataset\u001b[0m\u001b[0;34m\u001b[0m\u001b[0;34m\u001b[0m\u001b[0m\n\u001b[0;32m---> 11\u001b[0;31m history = model.fit(train_dataset, y_train,\n\u001b[0m\u001b[1;32m     12\u001b[0m                           \u001b[0mbatch_size\u001b[0m\u001b[0;34m=\u001b[0m\u001b[0mbatch_size\u001b[0m\u001b[0;34m,\u001b[0m\u001b[0;34m\u001b[0m\u001b[0;34m\u001b[0m\u001b[0m\n\u001b[1;32m     13\u001b[0m                           \u001b[0mepochs\u001b[0m\u001b[0;34m=\u001b[0m\u001b[0mepochs\u001b[0m\u001b[0;34m,\u001b[0m\u001b[0;34m\u001b[0m\u001b[0;34m\u001b[0m\u001b[0m\n",
            "\u001b[0;32m/usr/local/lib/python3.10/dist-packages/keras/src/utils/traceback_utils.py\u001b[0m in \u001b[0;36merror_handler\u001b[0;34m(*args, **kwargs)\u001b[0m\n\u001b[1;32m     63\u001b[0m         \u001b[0mfiltered_tb\u001b[0m \u001b[0;34m=\u001b[0m \u001b[0;32mNone\u001b[0m\u001b[0;34m\u001b[0m\u001b[0;34m\u001b[0m\u001b[0m\n\u001b[1;32m     64\u001b[0m         \u001b[0;32mtry\u001b[0m\u001b[0;34m:\u001b[0m\u001b[0;34m\u001b[0m\u001b[0;34m\u001b[0m\u001b[0m\n\u001b[0;32m---> 65\u001b[0;31m             \u001b[0;32mreturn\u001b[0m \u001b[0mfn\u001b[0m\u001b[0;34m(\u001b[0m\u001b[0;34m*\u001b[0m\u001b[0margs\u001b[0m\u001b[0;34m,\u001b[0m \u001b[0;34m**\u001b[0m\u001b[0mkwargs\u001b[0m\u001b[0;34m)\u001b[0m\u001b[0;34m\u001b[0m\u001b[0;34m\u001b[0m\u001b[0m\n\u001b[0m\u001b[1;32m     66\u001b[0m         \u001b[0;32mexcept\u001b[0m \u001b[0mException\u001b[0m \u001b[0;32mas\u001b[0m \u001b[0me\u001b[0m\u001b[0;34m:\u001b[0m\u001b[0;34m\u001b[0m\u001b[0;34m\u001b[0m\u001b[0m\n\u001b[1;32m     67\u001b[0m             \u001b[0mfiltered_tb\u001b[0m \u001b[0;34m=\u001b[0m \u001b[0m_process_traceback_frames\u001b[0m\u001b[0;34m(\u001b[0m\u001b[0me\u001b[0m\u001b[0;34m.\u001b[0m\u001b[0m__traceback__\u001b[0m\u001b[0;34m)\u001b[0m\u001b[0;34m\u001b[0m\u001b[0;34m\u001b[0m\u001b[0m\n",
            "\u001b[0;32m/usr/local/lib/python3.10/dist-packages/keras/src/engine/training.py\u001b[0m in \u001b[0;36mfit\u001b[0;34m(self, x, y, batch_size, epochs, verbose, callbacks, validation_split, validation_data, shuffle, class_weight, sample_weight, initial_epoch, steps_per_epoch, validation_steps, validation_batch_size, validation_freq, max_queue_size, workers, use_multiprocessing)\u001b[0m\n\u001b[1;32m   1805\u001b[0m                         ):\n\u001b[1;32m   1806\u001b[0m                             \u001b[0mcallbacks\u001b[0m\u001b[0;34m.\u001b[0m\u001b[0mon_train_batch_begin\u001b[0m\u001b[0;34m(\u001b[0m\u001b[0mstep\u001b[0m\u001b[0;34m)\u001b[0m\u001b[0;34m\u001b[0m\u001b[0;34m\u001b[0m\u001b[0m\n\u001b[0;32m-> 1807\u001b[0;31m                             \u001b[0mtmp_logs\u001b[0m \u001b[0;34m=\u001b[0m \u001b[0mself\u001b[0m\u001b[0;34m.\u001b[0m\u001b[0mtrain_function\u001b[0m\u001b[0;34m(\u001b[0m\u001b[0miterator\u001b[0m\u001b[0;34m)\u001b[0m\u001b[0;34m\u001b[0m\u001b[0;34m\u001b[0m\u001b[0m\n\u001b[0m\u001b[1;32m   1808\u001b[0m                             \u001b[0;32mif\u001b[0m \u001b[0mdata_handler\u001b[0m\u001b[0;34m.\u001b[0m\u001b[0mshould_sync\u001b[0m\u001b[0;34m:\u001b[0m\u001b[0;34m\u001b[0m\u001b[0;34m\u001b[0m\u001b[0m\n\u001b[1;32m   1809\u001b[0m                                 \u001b[0mcontext\u001b[0m\u001b[0;34m.\u001b[0m\u001b[0masync_wait\u001b[0m\u001b[0;34m(\u001b[0m\u001b[0;34m)\u001b[0m\u001b[0;34m\u001b[0m\u001b[0;34m\u001b[0m\u001b[0m\n",
            "\u001b[0;32m/usr/local/lib/python3.10/dist-packages/tensorflow/python/util/traceback_utils.py\u001b[0m in \u001b[0;36merror_handler\u001b[0;34m(*args, **kwargs)\u001b[0m\n\u001b[1;32m    148\u001b[0m     \u001b[0mfiltered_tb\u001b[0m \u001b[0;34m=\u001b[0m \u001b[0;32mNone\u001b[0m\u001b[0;34m\u001b[0m\u001b[0;34m\u001b[0m\u001b[0m\n\u001b[1;32m    149\u001b[0m     \u001b[0;32mtry\u001b[0m\u001b[0;34m:\u001b[0m\u001b[0;34m\u001b[0m\u001b[0;34m\u001b[0m\u001b[0m\n\u001b[0;32m--> 150\u001b[0;31m       \u001b[0;32mreturn\u001b[0m \u001b[0mfn\u001b[0m\u001b[0;34m(\u001b[0m\u001b[0;34m*\u001b[0m\u001b[0margs\u001b[0m\u001b[0;34m,\u001b[0m \u001b[0;34m**\u001b[0m\u001b[0mkwargs\u001b[0m\u001b[0;34m)\u001b[0m\u001b[0;34m\u001b[0m\u001b[0;34m\u001b[0m\u001b[0m\n\u001b[0m\u001b[1;32m    151\u001b[0m     \u001b[0;32mexcept\u001b[0m \u001b[0mException\u001b[0m \u001b[0;32mas\u001b[0m \u001b[0me\u001b[0m\u001b[0;34m:\u001b[0m\u001b[0;34m\u001b[0m\u001b[0;34m\u001b[0m\u001b[0m\n\u001b[1;32m    152\u001b[0m       \u001b[0mfiltered_tb\u001b[0m \u001b[0;34m=\u001b[0m \u001b[0m_process_traceback_frames\u001b[0m\u001b[0;34m(\u001b[0m\u001b[0me\u001b[0m\u001b[0;34m.\u001b[0m\u001b[0m__traceback__\u001b[0m\u001b[0;34m)\u001b[0m\u001b[0;34m\u001b[0m\u001b[0;34m\u001b[0m\u001b[0m\n",
            "\u001b[0;32m/usr/local/lib/python3.10/dist-packages/tensorflow/python/eager/polymorphic_function/polymorphic_function.py\u001b[0m in \u001b[0;36m__call__\u001b[0;34m(self, *args, **kwds)\u001b[0m\n\u001b[1;32m    830\u001b[0m \u001b[0;34m\u001b[0m\u001b[0m\n\u001b[1;32m    831\u001b[0m       \u001b[0;32mwith\u001b[0m \u001b[0mOptionalXlaContext\u001b[0m\u001b[0;34m(\u001b[0m\u001b[0mself\u001b[0m\u001b[0;34m.\u001b[0m\u001b[0m_jit_compile\u001b[0m\u001b[0;34m)\u001b[0m\u001b[0;34m:\u001b[0m\u001b[0;34m\u001b[0m\u001b[0;34m\u001b[0m\u001b[0m\n\u001b[0;32m--> 832\u001b[0;31m         \u001b[0mresult\u001b[0m \u001b[0;34m=\u001b[0m \u001b[0mself\u001b[0m\u001b[0;34m.\u001b[0m\u001b[0m_call\u001b[0m\u001b[0;34m(\u001b[0m\u001b[0;34m*\u001b[0m\u001b[0margs\u001b[0m\u001b[0;34m,\u001b[0m \u001b[0;34m**\u001b[0m\u001b[0mkwds\u001b[0m\u001b[0;34m)\u001b[0m\u001b[0;34m\u001b[0m\u001b[0;34m\u001b[0m\u001b[0m\n\u001b[0m\u001b[1;32m    833\u001b[0m \u001b[0;34m\u001b[0m\u001b[0m\n\u001b[1;32m    834\u001b[0m       \u001b[0mnew_tracing_count\u001b[0m \u001b[0;34m=\u001b[0m \u001b[0mself\u001b[0m\u001b[0;34m.\u001b[0m\u001b[0mexperimental_get_tracing_count\u001b[0m\u001b[0;34m(\u001b[0m\u001b[0;34m)\u001b[0m\u001b[0;34m\u001b[0m\u001b[0;34m\u001b[0m\u001b[0m\n",
            "\u001b[0;32m/usr/local/lib/python3.10/dist-packages/tensorflow/python/eager/polymorphic_function/polymorphic_function.py\u001b[0m in \u001b[0;36m_call\u001b[0;34m(self, *args, **kwds)\u001b[0m\n\u001b[1;32m    866\u001b[0m       \u001b[0;31m# In this case we have created variables on the first call, so we run the\u001b[0m\u001b[0;34m\u001b[0m\u001b[0;34m\u001b[0m\u001b[0m\n\u001b[1;32m    867\u001b[0m       \u001b[0;31m# defunned version which is guaranteed to never create variables.\u001b[0m\u001b[0;34m\u001b[0m\u001b[0;34m\u001b[0m\u001b[0m\n\u001b[0;32m--> 868\u001b[0;31m       return tracing_compilation.call_function(\n\u001b[0m\u001b[1;32m    869\u001b[0m           \u001b[0margs\u001b[0m\u001b[0;34m,\u001b[0m \u001b[0mkwds\u001b[0m\u001b[0;34m,\u001b[0m \u001b[0mself\u001b[0m\u001b[0;34m.\u001b[0m\u001b[0m_no_variable_creation_config\u001b[0m\u001b[0;34m\u001b[0m\u001b[0;34m\u001b[0m\u001b[0m\n\u001b[1;32m    870\u001b[0m       )\n",
            "\u001b[0;32m/usr/local/lib/python3.10/dist-packages/tensorflow/python/eager/polymorphic_function/tracing_compilation.py\u001b[0m in \u001b[0;36mcall_function\u001b[0;34m(args, kwargs, tracing_options)\u001b[0m\n\u001b[1;32m    137\u001b[0m   \u001b[0mbound_args\u001b[0m \u001b[0;34m=\u001b[0m \u001b[0mfunction\u001b[0m\u001b[0;34m.\u001b[0m\u001b[0mfunction_type\u001b[0m\u001b[0;34m.\u001b[0m\u001b[0mbind\u001b[0m\u001b[0;34m(\u001b[0m\u001b[0;34m*\u001b[0m\u001b[0margs\u001b[0m\u001b[0;34m,\u001b[0m \u001b[0;34m**\u001b[0m\u001b[0mkwargs\u001b[0m\u001b[0;34m)\u001b[0m\u001b[0;34m\u001b[0m\u001b[0;34m\u001b[0m\u001b[0m\n\u001b[1;32m    138\u001b[0m   \u001b[0mflat_inputs\u001b[0m \u001b[0;34m=\u001b[0m \u001b[0mfunction\u001b[0m\u001b[0;34m.\u001b[0m\u001b[0mfunction_type\u001b[0m\u001b[0;34m.\u001b[0m\u001b[0munpack_inputs\u001b[0m\u001b[0;34m(\u001b[0m\u001b[0mbound_args\u001b[0m\u001b[0;34m)\u001b[0m\u001b[0;34m\u001b[0m\u001b[0;34m\u001b[0m\u001b[0m\n\u001b[0;32m--> 139\u001b[0;31m   return function._call_flat(  # pylint: disable=protected-access\n\u001b[0m\u001b[1;32m    140\u001b[0m       \u001b[0mflat_inputs\u001b[0m\u001b[0;34m,\u001b[0m \u001b[0mcaptured_inputs\u001b[0m\u001b[0;34m=\u001b[0m\u001b[0mfunction\u001b[0m\u001b[0;34m.\u001b[0m\u001b[0mcaptured_inputs\u001b[0m\u001b[0;34m\u001b[0m\u001b[0;34m\u001b[0m\u001b[0m\n\u001b[1;32m    141\u001b[0m   )\n",
            "\u001b[0;32m/usr/local/lib/python3.10/dist-packages/tensorflow/python/eager/polymorphic_function/concrete_function.py\u001b[0m in \u001b[0;36m_call_flat\u001b[0;34m(self, tensor_inputs, captured_inputs)\u001b[0m\n\u001b[1;32m   1321\u001b[0m         and executing_eagerly):\n\u001b[1;32m   1322\u001b[0m       \u001b[0;31m# No tape is watching; skip to running the function.\u001b[0m\u001b[0;34m\u001b[0m\u001b[0;34m\u001b[0m\u001b[0m\n\u001b[0;32m-> 1323\u001b[0;31m       \u001b[0;32mreturn\u001b[0m \u001b[0mself\u001b[0m\u001b[0;34m.\u001b[0m\u001b[0m_inference_function\u001b[0m\u001b[0;34m.\u001b[0m\u001b[0mcall_preflattened\u001b[0m\u001b[0;34m(\u001b[0m\u001b[0margs\u001b[0m\u001b[0;34m)\u001b[0m\u001b[0;34m\u001b[0m\u001b[0;34m\u001b[0m\u001b[0m\n\u001b[0m\u001b[1;32m   1324\u001b[0m     forward_backward = self._select_forward_and_backward_functions(\n\u001b[1;32m   1325\u001b[0m         \u001b[0margs\u001b[0m\u001b[0;34m,\u001b[0m\u001b[0;34m\u001b[0m\u001b[0;34m\u001b[0m\u001b[0m\n",
            "\u001b[0;32m/usr/local/lib/python3.10/dist-packages/tensorflow/python/eager/polymorphic_function/atomic_function.py\u001b[0m in \u001b[0;36mcall_preflattened\u001b[0;34m(self, args)\u001b[0m\n\u001b[1;32m    214\u001b[0m   \u001b[0;32mdef\u001b[0m \u001b[0mcall_preflattened\u001b[0m\u001b[0;34m(\u001b[0m\u001b[0mself\u001b[0m\u001b[0;34m,\u001b[0m \u001b[0margs\u001b[0m\u001b[0;34m:\u001b[0m \u001b[0mSequence\u001b[0m\u001b[0;34m[\u001b[0m\u001b[0mcore\u001b[0m\u001b[0;34m.\u001b[0m\u001b[0mTensor\u001b[0m\u001b[0;34m]\u001b[0m\u001b[0;34m)\u001b[0m \u001b[0;34m->\u001b[0m \u001b[0mAny\u001b[0m\u001b[0;34m:\u001b[0m\u001b[0;34m\u001b[0m\u001b[0;34m\u001b[0m\u001b[0m\n\u001b[1;32m    215\u001b[0m     \u001b[0;34m\"\"\"Calls with flattened tensor inputs and returns the structured output.\"\"\"\u001b[0m\u001b[0;34m\u001b[0m\u001b[0;34m\u001b[0m\u001b[0m\n\u001b[0;32m--> 216\u001b[0;31m     \u001b[0mflat_outputs\u001b[0m \u001b[0;34m=\u001b[0m \u001b[0mself\u001b[0m\u001b[0;34m.\u001b[0m\u001b[0mcall_flat\u001b[0m\u001b[0;34m(\u001b[0m\u001b[0;34m*\u001b[0m\u001b[0margs\u001b[0m\u001b[0;34m)\u001b[0m\u001b[0;34m\u001b[0m\u001b[0;34m\u001b[0m\u001b[0m\n\u001b[0m\u001b[1;32m    217\u001b[0m     \u001b[0;32mreturn\u001b[0m \u001b[0mself\u001b[0m\u001b[0;34m.\u001b[0m\u001b[0mfunction_type\u001b[0m\u001b[0;34m.\u001b[0m\u001b[0mpack_output\u001b[0m\u001b[0;34m(\u001b[0m\u001b[0mflat_outputs\u001b[0m\u001b[0;34m)\u001b[0m\u001b[0;34m\u001b[0m\u001b[0;34m\u001b[0m\u001b[0m\n\u001b[1;32m    218\u001b[0m \u001b[0;34m\u001b[0m\u001b[0m\n",
            "\u001b[0;32m/usr/local/lib/python3.10/dist-packages/tensorflow/python/eager/polymorphic_function/atomic_function.py\u001b[0m in \u001b[0;36mcall_flat\u001b[0;34m(self, *args)\u001b[0m\n\u001b[1;32m    249\u001b[0m         \u001b[0;32mwith\u001b[0m \u001b[0mrecord\u001b[0m\u001b[0;34m.\u001b[0m\u001b[0mstop_recording\u001b[0m\u001b[0;34m(\u001b[0m\u001b[0;34m)\u001b[0m\u001b[0;34m:\u001b[0m\u001b[0;34m\u001b[0m\u001b[0;34m\u001b[0m\u001b[0m\n\u001b[1;32m    250\u001b[0m           \u001b[0;32mif\u001b[0m \u001b[0mself\u001b[0m\u001b[0;34m.\u001b[0m\u001b[0m_bound_context\u001b[0m\u001b[0;34m.\u001b[0m\u001b[0mexecuting_eagerly\u001b[0m\u001b[0;34m(\u001b[0m\u001b[0;34m)\u001b[0m\u001b[0;34m:\u001b[0m\u001b[0;34m\u001b[0m\u001b[0;34m\u001b[0m\u001b[0m\n\u001b[0;32m--> 251\u001b[0;31m             outputs = self._bound_context.call_function(\n\u001b[0m\u001b[1;32m    252\u001b[0m                 \u001b[0mself\u001b[0m\u001b[0;34m.\u001b[0m\u001b[0mname\u001b[0m\u001b[0;34m,\u001b[0m\u001b[0;34m\u001b[0m\u001b[0;34m\u001b[0m\u001b[0m\n\u001b[1;32m    253\u001b[0m                 \u001b[0mlist\u001b[0m\u001b[0;34m(\u001b[0m\u001b[0margs\u001b[0m\u001b[0;34m)\u001b[0m\u001b[0;34m,\u001b[0m\u001b[0;34m\u001b[0m\u001b[0;34m\u001b[0m\u001b[0m\n",
            "\u001b[0;32m/usr/local/lib/python3.10/dist-packages/tensorflow/python/eager/context.py\u001b[0m in \u001b[0;36mcall_function\u001b[0;34m(self, name, tensor_inputs, num_outputs)\u001b[0m\n\u001b[1;32m   1484\u001b[0m     \u001b[0mcancellation_context\u001b[0m \u001b[0;34m=\u001b[0m \u001b[0mcancellation\u001b[0m\u001b[0;34m.\u001b[0m\u001b[0mcontext\u001b[0m\u001b[0;34m(\u001b[0m\u001b[0;34m)\u001b[0m\u001b[0;34m\u001b[0m\u001b[0;34m\u001b[0m\u001b[0m\n\u001b[1;32m   1485\u001b[0m     \u001b[0;32mif\u001b[0m \u001b[0mcancellation_context\u001b[0m \u001b[0;32mis\u001b[0m \u001b[0;32mNone\u001b[0m\u001b[0;34m:\u001b[0m\u001b[0;34m\u001b[0m\u001b[0;34m\u001b[0m\u001b[0m\n\u001b[0;32m-> 1486\u001b[0;31m       outputs = execute.execute(\n\u001b[0m\u001b[1;32m   1487\u001b[0m           \u001b[0mname\u001b[0m\u001b[0;34m.\u001b[0m\u001b[0mdecode\u001b[0m\u001b[0;34m(\u001b[0m\u001b[0;34m\"utf-8\"\u001b[0m\u001b[0;34m)\u001b[0m\u001b[0;34m,\u001b[0m\u001b[0;34m\u001b[0m\u001b[0;34m\u001b[0m\u001b[0m\n\u001b[1;32m   1488\u001b[0m           \u001b[0mnum_outputs\u001b[0m\u001b[0;34m=\u001b[0m\u001b[0mnum_outputs\u001b[0m\u001b[0;34m,\u001b[0m\u001b[0;34m\u001b[0m\u001b[0;34m\u001b[0m\u001b[0m\n",
            "\u001b[0;32m/usr/local/lib/python3.10/dist-packages/tensorflow/python/eager/execute.py\u001b[0m in \u001b[0;36mquick_execute\u001b[0;34m(op_name, num_outputs, inputs, attrs, ctx, name)\u001b[0m\n\u001b[1;32m     51\u001b[0m   \u001b[0;32mtry\u001b[0m\u001b[0;34m:\u001b[0m\u001b[0;34m\u001b[0m\u001b[0;34m\u001b[0m\u001b[0m\n\u001b[1;32m     52\u001b[0m     \u001b[0mctx\u001b[0m\u001b[0;34m.\u001b[0m\u001b[0mensure_initialized\u001b[0m\u001b[0;34m(\u001b[0m\u001b[0;34m)\u001b[0m\u001b[0;34m\u001b[0m\u001b[0;34m\u001b[0m\u001b[0m\n\u001b[0;32m---> 53\u001b[0;31m     tensors = pywrap_tfe.TFE_Py_Execute(ctx._handle, device_name, op_name,\n\u001b[0m\u001b[1;32m     54\u001b[0m                                         inputs, attrs, num_outputs)\n\u001b[1;32m     55\u001b[0m   \u001b[0;32mexcept\u001b[0m \u001b[0mcore\u001b[0m\u001b[0;34m.\u001b[0m\u001b[0m_NotOkStatusException\u001b[0m \u001b[0;32mas\u001b[0m \u001b[0me\u001b[0m\u001b[0;34m:\u001b[0m\u001b[0;34m\u001b[0m\u001b[0;34m\u001b[0m\u001b[0m\n",
            "\u001b[0;31mKeyboardInterrupt\u001b[0m: "
          ]
        }
      ],
      "source": [
        "# Setting the callbacks\n",
        "checkpoint_path_1 = \"GNN_checkpoints/cp.ckpt\"\n",
        "checkpoint_dir_1 = os.path.dirname(checkpoint_path_1)\n",
        "\n",
        "cp_callback = keras.callbacks.ModelCheckpoint(filepath=checkpoint_path_1, verbose=0, save_weights_only=True)\n",
        "lr_scheduler = keras.callbacks.LearningRateScheduler(lr_schedule)\n",
        "progress_bar = keras.callbacks.ProgbarLogger()\n",
        "callbacks = [lr_scheduler, progress_bar, cp_callback]\n",
        "\n",
        "# Fitting the model on training dataset\n",
        "history = model.fit(train_dataset, y_train,\n",
        "                          batch_size=batch_size,\n",
        "                          epochs=epochs,\n",
        "                          validation_data=(val_dataset, y_val),\n",
        "                          shuffle=True,\n",
        "                          callbacks=callbacks)"
      ]
    },
    {
      "cell_type": "code",
      "source": [
        "import matplotlib.pyplot as plt\n",
        "import numpy as np\n",
        "\n",
        "def plot_training_history(history, epochs):\n",
        "    # Set up the plotting parameters\n",
        "    fig, axes = plt.subplots(1, 3, figsize=(18, 5))\n",
        "    titles = ['Loss of ParticleNet Lite Model', 'Accuracy of ParticleNet Lite Model', 'AUC of ParticleNet Lite Model']\n",
        "    metrics = [('loss', 'val_loss'), ('accuracy', 'val_accuracy'), ('auc', 'val_auc')]\n",
        "    y_labels = ['Loss', 'Accuracy', 'AUC']\n",
        "    colors = [('blue', 'green'), ('blue', 'green'), ('blue', 'green')]\n",
        "\n",
        "    # Generate each subplot\n",
        "    for ax, metric, title, y_label, color in zip(axes, metrics, titles, y_labels, colors):\n",
        "        epochs_range = np.linspace(1, epochs, epochs, dtype=int)\n",
        "        ax.plot(epochs_range, history.history[metric[0]], label='Training', color=color[0])\n",
        "        ax.plot(epochs_range, history.history[metric[1]], label='Validation', color=color[1])\n",
        "        ax.set_xlabel('Epochs')\n",
        "        ax.set_ylabel(y_label)\n",
        "        ax.set_title(title)\n",
        "        ax.legend()\n",
        "        ax.grid(True)\n",
        "\n",
        "    plt.tight_layout()\n",
        "    plt.show()\n"
      ],
      "metadata": {
        "id": "3o5u85tpN1Nm"
      },
      "id": "3o5u85tpN1Nm",
      "execution_count": 12,
      "outputs": []
    },
    {
      "cell_type": "code",
      "source": [
        "loss, acc, auc = model.evaluate(test_dataset, y_test)\n",
        "print(\"Evaluation Metric of model on test data\")\n",
        "print(\"Loss:\", loss)\n",
        "print(\"Accuracy:\", acc)\n",
        "print(\"AUC:\", auc)"
      ],
      "metadata": {
        "colab": {
          "base_uri": "https://localhost:8080/"
        },
        "id": "TTtWIf_YwfRg",
        "outputId": "7604d6ff-871a-4d2d-f77f-29d14681ff9b"
      },
      "id": "TTtWIf_YwfRg",
      "execution_count": 14,
      "outputs": [
        {
          "output_type": "stream",
          "name": "stdout",
          "text": [
            "469/469 [==============================] - 8s 17ms/step - loss: 0.5077 - accuracy: 0.7819 - auc: 0.8568\n",
            "Evaluation Metric of model on test data\n",
            "Loss: 0.5076521635055542\n",
            "Accuracy: 0.7818666696548462\n",
            "AUC: 0.8568345308303833\n"
          ]
        }
      ]
    },
    {
      "cell_type": "code",
      "source": [
        "import numpy as np\n",
        "import matplotlib.pyplot as plt\n",
        "import seaborn as sns\n",
        "from sklearn.metrics import confusion_matrix\n",
        "\n",
        "y_pred = model.predict(test_dataset)\n",
        "\n",
        "def plot_conf_matrix(y_test, predictions, class_names):\n",
        "    # Adjust based on y_test and predictions are one-hot encoded\n",
        "    if y_test.ndim > 1:\n",
        "        y_true = np.argmax(y_test, axis=1)\n",
        "        y_pred = np.argmax(predictions, axis=1)\n",
        "    else:\n",
        "        y_true = y_test\n",
        "        y_pred = np.round(predictions).astype(int)\n",
        "\n",
        "    cm = confusion_matrix(y_true, y_pred)\n",
        "    plt.figure(figsize=(8, 8))\n",
        "    sns.heatmap(cm, annot=True, fmt=\"d\", cmap='Blues', xticklabels=class_names, yticklabels=class_names)\n",
        "    plt.xlabel('Predicted labels')\n",
        "    plt.ylabel('True labels')\n",
        "    plt.title('Confusion Matrix')\n",
        "    plt.show()\n",
        "\n",
        "\n",
        "class_names = ['Gluon', 'Quark']\n",
        "plot_conf_matrix(y_test, y_pred, class_names)"
      ],
      "metadata": {
        "colab": {
          "base_uri": "https://localhost:8080/",
          "height": 735
        },
        "id": "TJdW3622x3aC",
        "outputId": "1aba79cc-489c-4987-89c2-8c67f10cbe1a"
      },
      "id": "TJdW3622x3aC",
      "execution_count": 16,
      "outputs": [
        {
          "output_type": "stream",
          "name": "stdout",
          "text": [
            "469/469 [==============================] - 14s 30ms/step\n"
          ]
        },
        {
          "output_type": "display_data",
          "data": {
            "text/plain": [
              "<Figure size 800x800 with 2 Axes>"
            ],
            "image/png": "[encoded data removed]"
          },
          "metadata": {}
        }
      ]
    }
  ],
  "metadata": {
    "kernelspec": {
      "display_name": "Python (mlenv)",
      "language": "python",
      "name": "mlenv"
    },
    "language_info": {
      "codemirror_mode": {
        "name": "ipython",
        "version": 3
      },
      "file_extension": ".py",
      "mimetype": "text/x-python",
      "name": "python",
      "nbconvert_exporter": "python",
      "pygments_lexer": "ipython3",
      "version": "3.10.11"
    },
    "colab": {
      "provenance": [],
      "gpuType": "V28"
    },
    "accelerator": "TPU"
  },
  "nbformat": 4,
  "nbformat_minor": 5
}